{
 "cells": [
  {
   "cell_type": "markdown",
   "id": "00ddd403-b0a1-47c3-ac65-1403894bc290",
   "metadata": {},
   "source": [
    "1. Write a program to accept percentage from the user and display the grade according to the following criteria\n",
    "\n",
    "MARKS            GRADE\n",
    ">90                A\n",
    ">80 and <=90       B\n",
    ">=60 and <=80      C\n",
    "below 60           D"
   ]
  },
  {
   "cell_type": "code",
   "execution_count": 1,
   "id": "52882cbf-f6bc-4fc3-ae4f-6ab21ca1645d",
   "metadata": {},
   "outputs": [
    {
     "name": "stdin",
     "output_type": "stream",
     "text": [
      "Enter the Marks 4\n"
     ]
    },
    {
     "name": "stdout",
     "output_type": "stream",
     "text": [
      "D\n"
     ]
    }
   ],
   "source": [
    "marks=int(input(\"Enter the Marks\"))\n",
    "if marks>=90:\n",
    "    print(\"A\")\n",
    "elif marks>=80:\n",
    "    print(\"B\")\n",
    "elif marks>=60:\n",
    "    print(\"C\")\n",
    "else:\n",
    "    print(\"D\")"
   ]
  },
  {
   "cell_type": "markdown",
   "id": "bb68c2de-29ce-48c1-a6e6-103a5a7644a0",
   "metadata": {},
   "source": [
    "2. Write a program to accept the cost price of a bike and display the road tax to be paid according to the following criteria"
   ]
  },
  {
   "cell_type": "code",
   "execution_count": 2,
   "id": "a19a5b58-e7c8-445b-8f3e-240d2d651ea6",
   "metadata": {},
   "outputs": [
    {
     "name": "stdin",
     "output_type": "stream",
     "text": [
      "Enter the price of bike :  45\n"
     ]
    },
    {
     "name": "stdout",
     "output_type": "stream",
     "text": [
      "Total tax 15% 47.25\n"
     ]
    }
   ],
   "source": [
    "price=int(input(\"Enter the price of bike : \"))\n",
    "if price>=1000000:\n",
    "    print(\"Total tax 15% {}\".format(price*115/100))\n",
    "elif price>=500000:\n",
    "    print(\"Total tax 15% {}\".format(price*110/100))\n",
    "else:\n",
    "    print(\"Total tax 15% {}\".format(price*105/100))"
   ]
  },
  {
   "cell_type": "markdown",
   "id": "84f5e2db-f5da-48f3-905d-9ccd157f6a79",
   "metadata": {},
   "source": [
    "3.Accept any city from the user and display monumnet of that city"
   ]
  },
  {
   "cell_type": "code",
   "execution_count": 3,
   "id": "65ed4767-8278-4cdf-9db3-b64621a45c4c",
   "metadata": {},
   "outputs": [
    {
     "name": "stdin",
     "output_type": "stream",
     "text": [
      "Enter the city name Delhi\n"
     ]
    },
    {
     "name": "stdout",
     "output_type": "stream",
     "text": [
      "The monumnet of Delhi is Red Fort\n"
     ]
    }
   ],
   "source": [
    "monument={\"Delhi\":\"Red Fort\", \"Agra\":\"Taj Mahal\",\"jaipur\":\"Hawa Mahal\"}\n",
    "city=input(\"Enter the city name\")\n",
    "if city in monument:\n",
    "    monu=monument[city]\n",
    "    print(f\"The monumnet of {city} is {monu}\")\n",
    "else:\n",
    "    print(\"Monumnet is not found in the given list\")"
   ]
  },
  {
   "cell_type": "markdown",
   "id": "64c89691-cdb7-45ed-89a9-93a31f81d629",
   "metadata": {},
   "source": [
    "4. Check how many times a given number can be divided by 3 before it is less than or equal to 10."
   ]
  },
  {
   "cell_type": "code",
   "execution_count": 4,
   "id": "886bdf53-daf1-4bce-b6fc-58daec086622",
   "metadata": {},
   "outputs": [
    {
     "name": "stdin",
     "output_type": "stream",
     "text": [
      "Enter a number:  45\n"
     ]
    },
    {
     "name": "stdout",
     "output_type": "stream",
     "text": [
      "The number 45 can be divided by 3 2 times before it becomes less than or equal to 10.\n"
     ]
    }
   ],
   "source": [
    "def count_divisions(num):\n",
    "    count = 0\n",
    "    while num > 10:\n",
    "        num /= 3\n",
    "        count += 1\n",
    "    return count\n",
    "\n",
    "number = int(input(\"Enter a number: \"))\n",
    "\n",
    "divisions = count_divisions(number)\n",
    "\n",
    "print(f\"The number {number} can be divided by 3 {divisions} times before it becomes less than or equal to 10.\")\n"
   ]
  },
  {
   "cell_type": "markdown",
   "id": "1bd627b2-8117-4cb3-8ef5-4223e7f2bf70",
   "metadata": {},
   "source": [
    "5. Why and when to use While Loop in python give a detailed description with example."
   ]
  },
  {
   "cell_type": "markdown",
   "id": "810095cf-2cc9-4bfd-8e2e-4c20472689f2",
   "metadata": {},
   "source": [
    "A While loop is a control flow statement in Python that allows you to repeat a block of code as long as specified condition is true. It provides a way to execute a set of instructions repeatedly until a certain condition is met."
   ]
  },
  {
   "cell_type": "code",
   "execution_count": 1,
   "id": "c9ff4cd1-9c03-43a4-bb52-695e05433874",
   "metadata": {},
   "outputs": [
    {
     "name": "stdout",
     "output_type": "stream",
     "text": [
      "1\n",
      "2\n",
      "3\n",
      "4\n",
      "5\n"
     ]
    }
   ],
   "source": [
    "count=1\n",
    "while count<=5:\n",
    "    print(count)\n",
    "    count=count+1"
   ]
  },
  {
   "cell_type": "markdown",
   "id": "424533b0-f8bf-4538-863e-cc555f08774e",
   "metadata": {},
   "source": [
    "6. Use nested while loop to print 3 different patterns."
   ]
  },
  {
   "cell_type": "code",
   "execution_count": 9,
   "id": "9429b97c-0230-408c-a645-39a15b8e9483",
   "metadata": {},
   "outputs": [
    {
     "name": "stdout",
     "output_type": "stream",
     "text": [
      "*\n",
      "**\n",
      "***\n",
      "****\n",
      "*****\n"
     ]
    }
   ],
   "source": [
    "row = 1\n",
    "while row <= 5:\n",
    "    column = 1\n",
    "    while column <= row:\n",
    "        print(\"*\", end=\"\")\n",
    "        column += 1\n",
    "    print()\n",
    "    row += 1\n",
    "    "
   ]
  },
  {
   "cell_type": "code",
   "execution_count": 7,
   "id": "7d9f8185-1816-406c-b6c9-31cc0498f555",
   "metadata": {},
   "outputs": [
    {
     "name": "stdout",
     "output_type": "stream",
     "text": [
      "1\n",
      "12\n",
      "123\n",
      "1234\n",
      "12345\n"
     ]
    }
   ],
   "source": [
    "row = 1\n",
    "while row <= 5:\n",
    "    column = 1\n",
    "    while column <= row:\n",
    "        print(column, end=\"\")\n",
    "        column += 1\n",
    "    print()\n",
    "    row += 1"
   ]
  },
  {
   "cell_type": "code",
   "execution_count": 8,
   "id": "7bee787c-597a-4fac-96e8-9e12987100aa",
   "metadata": {},
   "outputs": [
    {
     "name": "stdout",
     "output_type": "stream",
     "text": [
      "*****\n",
      "****\n",
      "***\n",
      "**\n",
      "*\n"
     ]
    }
   ],
   "source": [
    "row = 5\n",
    "while row >= 1:\n",
    "    column = 1\n",
    "    while column <= row:\n",
    "        print(\"*\", end=\"\")\n",
    "        column += 1\n",
    "    print()\n",
    "    row -= 1"
   ]
  },
  {
   "cell_type": "markdown",
   "id": "ac15157c-971f-48ba-af88-1a162330da28",
   "metadata": {},
   "source": [
    "7. Reverse a while loop to display numbers from 10 to 1."
   ]
  },
  {
   "cell_type": "code",
   "execution_count": 10,
   "id": "5adf2e1e-711c-4364-9cc3-c9e96a78cf24",
   "metadata": {},
   "outputs": [
    {
     "name": "stdout",
     "output_type": "stream",
     "text": [
      "10\n",
      "9\n",
      "8\n",
      "7\n",
      "6\n",
      "5\n",
      "4\n",
      "3\n",
      "2\n",
      "1\n"
     ]
    }
   ],
   "source": [
    "count=10\n",
    "while count>=1:\n",
    "    print(count)\n",
    "    count=count-1"
   ]
  },
  {
   "cell_type": "code",
   "execution_count": null,
   "id": "5309a570-0028-4ca8-a451-c257314d2070",
   "metadata": {},
   "outputs": [],
   "source": []
  },
  {
   "cell_type": "code",
   "execution_count": null,
   "id": "2cf2ef78-0e4c-475e-a414-dad344f38083",
   "metadata": {},
   "outputs": [],
   "source": []
  },
  {
   "cell_type": "markdown",
   "id": "89b2e1b6-4d3a-4686-8e4f-52f1030503d7",
   "metadata": {},
   "source": []
  }
 ],
 "metadata": {
  "kernelspec": {
   "display_name": "Python 3 (ipykernel)",
   "language": "python",
   "name": "python3"
  },
  "language_info": {
   "codemirror_mode": {
    "name": "ipython",
    "version": 3
   },
   "file_extension": ".py",
   "mimetype": "text/x-python",
   "name": "python",
   "nbconvert_exporter": "python",
   "pygments_lexer": "ipython3",
   "version": "3.10.8"
  }
 },
 "nbformat": 4,
 "nbformat_minor": 5
}
